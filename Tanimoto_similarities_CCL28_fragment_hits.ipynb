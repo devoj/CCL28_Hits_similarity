{
 "cells": [
  {
   "cell_type": "markdown",
   "id": "looking-faith",
   "metadata": {},
   "source": [
    "# Similarity of CCL28 fragment hits to other molecules in the fragment screens using Tanimoto fingerprints"
   ]
  },
  {
   "cell_type": "code",
   "execution_count": null,
   "id": "unexpected-milwaukee",
   "metadata": {},
   "outputs": [],
   "source": [
    "import pandas as pd\n",
    "from rdkit.Chem import AllChem\n",
    "\n",
    "import os\n",
    "import pandas as pd\n",
    "import numpy as np\n",
    "import matplotlib.pyplot as plt\n",
    "from matplotlib import gridspec\n",
    "\n",
    "from rdkit import Chem, DataStructs\n",
    "from rdkit.Chem.Fingerprints import FingerprintMols\n",
    "from rdkit.Chem import Draw\n",
    "\n",
    "# All we need for clustering\n",
    "from scipy.cluster.hierarchy import dendrogram, linkage"
   ]
  },
  {
   "cell_type": "markdown",
   "id": "1a15e81f-eceb-4507-96be-f4255a2bd7a5",
   "metadata": {},
   "source": [
    "# First I will read  in an excel file with all of the hits from CCL28, CCL20 and CXCL12 fragment screens\n",
    "# One of the columnes, labeled smiles, is the smiles string for each fragment in the list."
   ]
  },
  {
   "cell_type": "code",
   "execution_count": null,
   "id": "activated-element",
   "metadata": {},
   "outputs": [],
   "source": [
    "\n",
    "hits = pd.read_excel('/Users/djensen/Documents/CCL28/CCL28_frag_screen_hits.xlsx', skiprows=2)\n",
    "hits"
   ]
  },
  {
   "cell_type": "markdown",
   "id": "electrical-liberia",
   "metadata": {},
   "source": [
    "## The next section is heavily borrowed and influenced from examples on this page\n",
    "\n",
    "\n",
    "https://chem-workflows.com/articles/2019/06/28/similarity-analysis-of-compound-databases/"
   ]
  },
  {
   "cell_type": "markdown",
   "id": "ba121dad-f4ff-48b4-8cf6-45efa644d43c",
   "metadata": {},
   "source": [
    "# Create an empty list of molecules, we will append to them as we read through the list of hits."
   ]
  },
  {
   "cell_type": "code",
   "execution_count": null,
   "id": "incredible-shoulder",
   "metadata": {},
   "outputs": [],
   "source": [
    "hit_list = []"
   ]
  },
  {
   "cell_type": "markdown",
   "id": "495c9659-445d-44b0-b88a-b1802388d723",
   "metadata": {},
   "source": [
    "# Read through the smiles and generate RDkit molecules, append them to the hit_list"
   ]
  },
  {
   "cell_type": "code",
   "execution_count": null,
   "id": "premium-petersburg",
   "metadata": {},
   "outputs": [],
   "source": [
    "counter = 0\n",
    "for item in hits.smiles:\n",
    "    mol=Chem.MolFromSmiles(item) # Converting SMILES codes into rdkit mol \n",
    "    mol.SetProp('_Name', str(hits.Cdid[counter])) # Adding the name for each molecule\n",
    "    hit_list.append(mol)\n",
    "    counter = counter + 1"
   ]
  },
  {
   "cell_type": "code",
   "execution_count": null,
   "id": "dental-married",
   "metadata": {},
   "outputs": [],
   "source": [
    "Draw.MolsToGridImage(hit_list,molsPerRow=6,subImgSize=(250,250),legends=[mol.GetProp('_Name') for mol in hit_list])\n"
   ]
  },
  {
   "cell_type": "code",
   "execution_count": null,
   "id": "grand-maximum",
   "metadata": {},
   "outputs": [],
   "source": [
    "sl = [hit_list[11], hit_list[12]]\n",
    "sl2 = [hit_list[5], hit_list[9]]\n",
    "sl3 = [hit_list[16], hit_list[3], hit_list[6]]\n",
    "sl4 = [hit_list[7], hit_list[10], hit_list[4]]"
   ]
  },
  {
   "cell_type": "code",
   "execution_count": null,
   "id": "mexican-istanbul",
   "metadata": {},
   "outputs": [],
   "source": [
    "Draw.MolsToGridImage(sl,molsPerRow=6,subImgSize=(250,250),legends=[mol.GetProp('_Name') for mol in sl])"
   ]
  },
  {
   "cell_type": "code",
   "execution_count": null,
   "id": "chemical-valve",
   "metadata": {},
   "outputs": [],
   "source": [
    "Draw.MolsToGridImage(sl2,molsPerRow=6,subImgSize=(250,250),legends=[mol.GetProp('_Name') for mol in sl2])"
   ]
  },
  {
   "cell_type": "code",
   "execution_count": null,
   "id": "peripheral-anniversary",
   "metadata": {},
   "outputs": [],
   "source": [
    "Draw.MolsToGridImage(sl3,molsPerRow=6,subImgSize=(250,250),legends=[mol.GetProp('_Name') for mol in sl3])"
   ]
  },
  {
   "cell_type": "code",
   "execution_count": null,
   "id": "olive-friday",
   "metadata": {},
   "outputs": [],
   "source": [
    "Draw.MolsToGridImage(sl4,molsPerRow=6,subImgSize=(250,250),legends=[mol.GetProp('_Name') for mol in sl4])"
   ]
  },
  {
   "cell_type": "markdown",
   "id": "bc51630a-2253-4308-a5fb-ec89fcaf3f63",
   "metadata": {},
   "source": [
    "# From all the the molecules, generate a \"hashed fingerprint\" for each molecule\n",
    "# This is the heavy atom connections that make up the \"fingerprint\" of each molecule."
   ]
  },
  {
   "cell_type": "code",
   "execution_count": null,
   "id": "moderate-month",
   "metadata": {},
   "outputs": [],
   "source": [
    "fps = [FingerprintMols.FingerprintMol(mol) for mol in hit_list]"
   ]
  },
  {
   "cell_type": "code",
   "execution_count": null,
   "id": "multiple-production",
   "metadata": {},
   "outputs": [],
   "source": [
    "print(len(hit_list))\n",
    "print(len(fps))"
   ]
  },
  {
   "cell_type": "markdown",
   "id": "67c93579-dad5-461d-a711-f36a9f90f8c0",
   "metadata": {},
   "source": [
    "# create the dendogramwith Tanimoto Similarity as the distance metric"
   ]
  },
  {
   "cell_type": "code",
   "execution_count": null,
   "id": "latest-definition",
   "metadata": {},
   "outputs": [],
   "source": [
    "size=len(hit_list)\n",
    "hmap=np.empty(shape=(size,size))\n",
    "table=pd.DataFrame()\n",
    "for index, i in enumerate(fps):\n",
    "    for jndex, j in enumerate(fps):\n",
    "        similarity=DataStructs.FingerprintSimilarity(i,j, metric=DataStructs.TanimotoSimilarity)\n",
    "        #similarity=DataStructs.FingerprintSimilarity(i,j, metric=DataStructs.DiceSimilarity)\n",
    "        #similarity=DataStructs.FingerprintSimilarity(i,j, metric=DataStructs.CosineSimilarity)\n",
    "        #similarity=DataStructs.FingerprintSimilarity(i,j, metric=DataStructs.SokalSimilarity)\n",
    "\n",
    "        hmap[index,jndex]=similarity\n",
    "        table.loc[hit_list[index].GetProp('_Name'),hit_list[jndex].GetProp('_Name')]=similarity"
   ]
  },
  {
   "cell_type": "code",
   "execution_count": null,
   "id": "fancy-productivity",
   "metadata": {},
   "outputs": [],
   "source": [
    "linked = linkage(hmap,'single')\n",
    "labelList = [mol.GetProp('_Name') for mol in hit_list]"
   ]
  },
  {
   "cell_type": "code",
   "execution_count": null,
   "id": "comparable-budapest",
   "metadata": {},
   "outputs": [],
   "source": [
    "plt.figure(figsize=(8,15))\n",
    "\n",
    "ax1=plt.subplot()\n",
    "o=dendrogram(linked,  \n",
    "            orientation='left',\n",
    "            labels=labelList,\n",
    "            distance_sort='descending',\n",
    "            show_leaf_counts=True)\n",
    "\n",
    "ax1.spines['left'].set_visible(False)\n",
    "ax1.spines['top'].set_visible(False)\n",
    "ax1.spines['right'].set_visible(False)\n",
    "plt.title('Similarity clustering',fontsize=20,weight='bold')\n",
    "plt.tick_params ('both',width=2,labelsize=8)\n",
    "plt.tight_layout()\n",
    "plt.show() "
   ]
  },
  {
   "cell_type": "code",
   "execution_count": null,
   "id": "suburban-nitrogen",
   "metadata": {},
   "outputs": [],
   "source": [
    "# This will give us the clusters in order as the last plot\n",
    "new_data=list(reversed(o['ivl']))\n",
    "\n",
    "# we create a new table with the order of HCL\n",
    "hmap_2=np.empty(shape=(size,size))\n",
    "for index,i in enumerate(new_data):\n",
    "    for jndex,j in enumerate(new_data):\n",
    "        hmap_2[index,jndex]=table.loc[i].at[j]"
   ]
  },
  {
   "cell_type": "code",
   "execution_count": null,
   "id": "inclusive-andrew",
   "metadata": {},
   "outputs": [],
   "source": [
    "figure= plt.figure(figsize=(30,30))\n",
    "gs1 = gridspec.GridSpec(2,7)\n",
    "gs1.update(wspace=0.01)\n",
    "ax1 = plt.subplot(gs1[0:-1, :2])\n",
    "dendrogram(linked, orientation='left', distance_sort='descending',show_leaf_counts=True,no_labels=True)\n",
    "ax1.spines['left'].set_visible(False)\n",
    "ax1.spines['top'].set_visible(False)\n",
    "ax1.spines['right'].set_visible(False)\n",
    "\n",
    "ax2 = plt.subplot(gs1[0:-1,2:6])\n",
    "#f=ax2.imshow (hmap_2, cmap='jet', interpolation='nearest')\n",
    "f=ax2.imshow (hmap_2, cmap='PRGn_r')\n",
    "\n",
    "ax2.set_title('Fingerprint Similarity of Chemokine fragment Hits',fontsize=30,weight='bold')\n",
    "ax2.set_xticks (range(len(new_data)))\n",
    "ax2.set_yticks (range(len(new_data)))\n",
    "ax2.set_xticklabels (new_data,rotation=90,size=8)\n",
    "ax2.set_yticklabels (new_data,size=8)\n",
    "\n",
    "ax3 = plt.subplot(gs1[0:-1,6:7])\n",
    "m=plt.colorbar(f,cax=ax3,shrink=0.75,orientation='vertical',spacing='uniform',pad=0.01)\n",
    "m.set_label ('Fingerprint Similarity')\n",
    "\n",
    "plt.tick_params ('both',width=2)\n",
    "plt.plot()\n",
    "plt.savefig('./CCL28_similarity.png', dpi = 600)"
   ]
  },
  {
   "cell_type": "markdown",
   "id": "thirty-polymer",
   "metadata": {},
   "source": [
    "# Searching Screening libraries for similar fragments, starting with the fragment below"
   ]
  },
  {
   "cell_type": "code",
   "execution_count": null,
   "id": "consolidated-catch",
   "metadata": {},
   "outputs": [],
   "source": [
    "hit_list[19]"
   ]
  },
  {
   "cell_type": "markdown",
   "id": "9da1b7bb-bf3a-4df3-a9d2-ebe8aadbdc74",
   "metadata": {},
   "source": [
    "# Read in all the purchased libraries and create lists of molecules"
   ]
  },
  {
   "cell_type": "code",
   "execution_count": null,
   "id": "bearing-loading",
   "metadata": {},
   "outputs": [],
   "source": [
    "suppl_may = Chem.SDMolSupplier('/Users/djensen/Documents/RDKitDJ/New_library_comparison/Library_sdf_files_and_quotes/Purchased_libraries/Maybridge_1000_20181023.sdf') # read mols from SDfile\n",
    "fps_may = [AllChem.GetMorganFingerprint(m,2) for m in suppl_may] # calculate morgan fingerprints for all compounds in SDfile\n",
    "\n",
    "suppl_ena = Chem.SDMolSupplier('/Users/djensen/Documents/RDKitDJ/New_library_comparison/Library_sdf_files_and_quotes/Purchased_libraries/Enamine_1080_Multiplexed_20200310.sdf') # read mols from SDfile\n",
    "fps_ena = [AllChem.GetMorganFingerprint(m,2) for m in suppl_ena] # calculate morgan fingerprints for all compounds in SDfile\n",
    "\n",
    "suppl_tar = Chem.SDMolSupplier('/Users/djensen/Documents/RDKitDJ/New_library_comparison/Library_sdf_files_and_quotes/Purchased_libraries/TargetMol_246_Multiplexed_20200304.sdf') # read mols from SDfile\n",
    "fps_tar = [AllChem.GetMorganFingerprint(m,2) for m in suppl_tar] # calculate morgan fingerprints for all compounds in SDfile\n"
   ]
  },
  {
   "cell_type": "markdown",
   "id": "305a8493-bfb2-455d-8865-86bf221d8ab8",
   "metadata": {},
   "source": [
    "# Search a single library for similar molecule, specifying a single library and molecule with a threshold"
   ]
  },
  {
   "cell_type": "code",
   "execution_count": null,
   "id": "respiratory-station",
   "metadata": {},
   "outputs": [],
   "source": [
    "def similarity_search(cdi = None, smi=None, fps = None, suppl = None, thresh=0.9):\n",
    "    \n",
    "    '''\n",
    "    This function returns all compounds in library with tanimoto coefficients above the \n",
    "    threshold. Either a library compound ID (cid=) or smiles pattern (smi=) must be \n",
    "    passed. If no tanimoto coefficient threshold (thresh=) is passed, 0.9 will be used.\n",
    "    '''\n",
    "    m = Chem.MolFromSmiles(smi)\n",
    "    m.SetProp('_Name', cdi)\n",
    "    fp = AllChem.GetMorganFingerprint(m, 2)\n",
    "    # search for mols with similarity above threshold\n",
    "    mols = [m]\n",
    "    for ix, m in enumerate(suppl):\n",
    "        similarity = DataStructs.DiceSimilarity(fp, fps[ix])\n",
    "        if similarity >= thresh:\n",
    "            AllChem.Compute2DCoords(m)\n",
    "            mols.append(m)\n",
    "\n",
    "    # show similar compounds\n",
    "    names = [m.GetProp('_Name') for m in mols]\n",
    "    img = Draw.MolsToGridImage(mols, molsPerRow=2, subImgSize=(200, 200), legends=names)\n",
    "    \n",
    "    return img"
   ]
  },
  {
   "cell_type": "code",
   "execution_count": null,
   "id": "declared-greenhouse",
   "metadata": {},
   "outputs": [],
   "source": [
    "smiles = 'OC(=O)c1cc2ccccc2[nH]1'\n",
    "compound_id = '1003'\n",
    "img = similarity_search(cdi = compound_id, smi = smiles, fps = fps_tar, suppl=suppl_tar, thresh=0.6)\n",
    "#img = similarity_search(smi=smiles, thresh=0.5)\n",
    "#img.save('similarity_search.png')\n",
    "img"
   ]
  },
  {
   "cell_type": "code",
   "execution_count": null,
   "id": "laughing-click",
   "metadata": {},
   "outputs": [],
   "source": [
    "smiles = 'OC(=O)c1cc2ccccc2[nH]1'\n",
    "compound_id = '1003'\n",
    "img = similarity_search(cdi = compound_id, smi = smiles, fps = fps_may, suppl = suppl_may, thresh=0.6)\n",
    "#img = similarity_search(smi=smiles, thresh=0.5)\n",
    "#img.save('similarity_search.png')\n",
    "img"
   ]
  },
  {
   "cell_type": "code",
   "execution_count": null,
   "id": "cubic-moisture",
   "metadata": {},
   "outputs": [],
   "source": [
    "smiles = 'OC(=O)c1cc2ccccc2[nH]1'\n",
    "compound_id = '1003'\n",
    "img = similarity_search(cdi = compound_id, smi = smiles, fps = fps_ena, suppl=suppl_ena, thresh=0.6)\n",
    "#img = similarity_search(smi=smiles, thresh=0.5)\n",
    "#img.save('similarity_search.png')\n",
    "img"
   ]
  },
  {
   "cell_type": "markdown",
   "id": "256d47e6-6d66-4279-a269-828f3daf4907",
   "metadata": {},
   "source": [
    "# Search a list of libraries for similar molecule, specifying a single library and molecule with a threshold.\n",
    "# Output is a list of similar molecules and a plot of the similar molecules"
   ]
  },
  {
   "cell_type": "code",
   "execution_count": null,
   "id": "a182e2a9-c708-488a-b341-532e5f2fb4af",
   "metadata": {},
   "outputs": [],
   "source": [
    "def all_similarity_search(cdi = None, smi=None, fps = None, suppl = None, thresh=0.9):\n",
    "    \n",
    "    '''\n",
    "    This function returns all compounds in library with tanimoto coefficients above the \n",
    "    threshold. Either a library compound ID (cid=) or smiles pattern (smi=) must be \n",
    "    passed. If no tanimoto coefficient threshold (thresh=) is passed, 0.9 will be used.\n",
    "    '''\n",
    "    m = Chem.MolFromSmiles(smi)\n",
    "    m.SetProp('_Name', cdi)\n",
    "    fp = AllChem.GetMorganFingerprint(m, 2)\n",
    "    # search for mols with similarity above threshold\n",
    "    mols = [m]\n",
    "    for ind_suppl in suppl:\n",
    "        for ix, m in enumerate(ind_suppl):\n",
    "            similarity = DataStructs.DiceSimilarity(fp, fps[ix])\n",
    "            if similarity >= thresh:\n",
    "                AllChem.Compute2DCoords(m)\n",
    "                mols.append(m)\n",
    "\n",
    "    # show similar compounds\n",
    "    names = [m.GetProp('_Name') for m in mols]\n",
    "    img = Draw.MolsToGridImage(mols, molsPerRow=2, subImgSize=(200, 200), legends=names)\n",
    "    \n",
    "    return mols, img"
   ]
  },
  {
   "cell_type": "code",
   "execution_count": null,
   "id": "numerous-antenna",
   "metadata": {},
   "outputs": [],
   "source": [
    "smiles = 'OC(=O)c1cc2ccccc2[nH]1'\n",
    "compound_id = '1003'\n",
    "sim_mols, sim_img = all_similarity_search(cdi = compound_id, smi = smiles, fps = fps_ena, suppl=[suppl_ena, suppl_may, suppl_tar], thresh=0.55)\n"
   ]
  },
  {
   "cell_type": "code",
   "execution_count": null,
   "id": "level-final",
   "metadata": {},
   "outputs": [],
   "source": [
    "sim_img"
   ]
  },
  {
   "cell_type": "code",
   "execution_count": null,
   "id": "premium-chassis",
   "metadata": {},
   "outputs": [],
   "source": [
    "sim_mols[0]"
   ]
  },
  {
   "cell_type": "code",
   "execution_count": null,
   "id": "bbe0dafb-158a-4024-9ecb-f0e9c3cd9421",
   "metadata": {},
   "outputs": [],
   "source": [
    "sim_mols[1]"
   ]
  },
  {
   "cell_type": "code",
   "execution_count": null,
   "id": "60b9ac57-0b8a-4661-b7cb-fb8c03ac56fe",
   "metadata": {},
   "outputs": [],
   "source": [
    "sim_mols[2]"
   ]
  },
  {
   "cell_type": "code",
   "execution_count": null,
   "id": "wicked-confidence",
   "metadata": {},
   "outputs": [],
   "source": [
    "sim_mols[0]"
   ]
  },
  {
   "cell_type": "code",
   "execution_count": null,
   "id": "sustainable-impact",
   "metadata": {},
   "outputs": [],
   "source": []
  }
 ],
 "metadata": {
  "kernelspec": {
   "display_name": "Python 3 (ipykernel)",
   "language": "python",
   "name": "python3"
  },
  "language_info": {
   "codemirror_mode": {
    "name": "ipython",
    "version": 3
   },
   "file_extension": ".py",
   "mimetype": "text/x-python",
   "name": "python",
   "nbconvert_exporter": "python",
   "pygments_lexer": "ipython3",
   "version": "3.8.18"
  }
 },
 "nbformat": 4,
 "nbformat_minor": 5
}
